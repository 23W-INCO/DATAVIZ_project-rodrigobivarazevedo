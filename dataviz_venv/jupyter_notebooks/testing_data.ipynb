{
 "cells": [
  {
   "cell_type": "code",
   "execution_count": null,
   "id": "b8eb1701-8e9c-4b83-bbd2-74066ee0c5c9",
   "metadata": {},
   "outputs": [
    {
     "ename": "",
     "evalue": "",
     "output_type": "error",
     "traceback": [
      "\u001b[1;31mRunning cells with '/bin/python3.10' requires the ipykernel package.\n",
      "\u001b[1;31mRun the following command to install 'ipykernel' into the Python environment. \n",
      "\u001b[1;31mCommand: '/bin/python3.10 -m pip install ipykernel -U --user --force-reinstall'"
     ]
    }
   ],
   "source": [
    "import pandas as pd\n",
    "import json\n",
    "from platform import python_version"
   ]
  },
  {
   "cell_type": "code",
   "execution_count": null,
   "id": "449ac747-7471-41c5-b80c-80bd7b3ef4fe",
   "metadata": {},
   "outputs": [
    {
     "ename": "",
     "evalue": "",
     "output_type": "error",
     "traceback": [
      "\u001b[1;31mRunning cells with '/bin/python3.10' requires the ipykernel package.\n",
      "\u001b[1;31mRun the following command to install 'ipykernel' into the Python environment. \n",
      "\u001b[1;31mCommand: '/bin/python3.10 -m pip install ipykernel -U --user --force-reinstall'"
     ]
    }
   ],
   "source": [
    "print(python_version())\n",
    "print(pd.__version__)\n"
   ]
  },
  {
   "cell_type": "code",
   "execution_count": null,
   "id": "80be7c8e-3924-4598-83b3-f22033499df8",
   "metadata": {},
   "outputs": [
    {
     "ename": "",
     "evalue": "",
     "output_type": "error",
     "traceback": [
      "\u001b[1;31mRunning cells with '/bin/python3.10' requires the ipykernel package.\n",
      "\u001b[1;31mRun the following command to install 'ipykernel' into the Python environment. \n",
      "\u001b[1;31mCommand: '/bin/python3.10 -m pip install ipykernel -U --user --force-reinstall'"
     ]
    }
   ],
   "source": [
    "import os"
   ]
  },
  {
   "cell_type": "code",
   "execution_count": null,
   "id": "550d3c5f-6440-4441-845e-c873374889df",
   "metadata": {},
   "outputs": [
    {
     "ename": "",
     "evalue": "",
     "output_type": "error",
     "traceback": [
      "\u001b[1;31mRunning cells with '/bin/python3.10' requires the ipykernel package.\n",
      "\u001b[1;31mRun the following command to install 'ipykernel' into the Python environment. \n",
      "\u001b[1;31mCommand: '/bin/python3.10 -m pip install ipykernel -U --user --force-reinstall'"
     ]
    }
   ],
   "source": [
    "current_directory = os.getcwd()"
   ]
  },
  {
   "cell_type": "code",
   "execution_count": null,
   "id": "f9f6e4f5-4cd6-4751-9898-579662e9e0e1",
   "metadata": {},
   "outputs": [
    {
     "ename": "",
     "evalue": "",
     "output_type": "error",
     "traceback": [
      "\u001b[1;31mRunning cells with '/bin/python3.10' requires the ipykernel package.\n",
      "\u001b[1;31mRun the following command to install 'ipykernel' into the Python environment. \n",
      "\u001b[1;31mCommand: '/bin/python3.10 -m pip install ipykernel -U --user --force-reinstall'"
     ]
    }
   ],
   "source": [
    "files_and_directories = os.listdir('/home/rodrigo/repos/DATAVIZ_project/')"
   ]
  },
  {
   "cell_type": "code",
   "execution_count": null,
   "id": "5684f527-2ae4-4d05-9e2b-c136b26552b4",
   "metadata": {},
   "outputs": [
    {
     "ename": "",
     "evalue": "",
     "output_type": "error",
     "traceback": [
      "\u001b[1;31mRunning cells with '/bin/python3.10' requires the ipykernel package.\n",
      "\u001b[1;31mRun the following command to install 'ipykernel' into the Python environment. \n",
      "\u001b[1;31mCommand: '/bin/python3.10 -m pip install ipykernel -U --user --force-reinstall'"
     ]
    }
   ],
   "source": [
    "print(\"Current Directory:\", current_directory)\n",
    "print(\"files and directories:\", files_and_directories)"
   ]
  },
  {
   "cell_type": "code",
   "execution_count": null,
   "id": "3ccd8587-eb20-49c5-8f15-dec40dd0aabb",
   "metadata": {},
   "outputs": [
    {
     "ename": "",
     "evalue": "",
     "output_type": "error",
     "traceback": [
      "\u001b[1;31mRunning cells with '/bin/python3.10' requires the ipykernel package.\n",
      "\u001b[1;31mRun the following command to install 'ipykernel' into the Python environment. \n",
      "\u001b[1;31mCommand: '/bin/python3.10 -m pip install ipykernel -U --user --force-reinstall'"
     ]
    }
   ],
   "source": [
    "files_and_directories = os.listdir('/home/rodrigo/repos/DATAVIZ_project/dataviz_venv')\n",
    "print(\"files and directories:\", files_and_directories)"
   ]
  },
  {
   "cell_type": "code",
   "execution_count": null,
   "id": "0286e7a3-8ee6-4e6b-83c9-8433faa7f348",
   "metadata": {},
   "outputs": [
    {
     "ename": "",
     "evalue": "",
     "output_type": "error",
     "traceback": [
      "\u001b[1;31mRunning cells with '/bin/python3.10' requires the ipykernel package.\n",
      "\u001b[1;31mRun the following command to install 'ipykernel' into the Python environment. \n",
      "\u001b[1;31mCommand: '/bin/python3.10 -m pip install ipykernel -U --user --force-reinstall'"
     ]
    }
   ],
   "source": [
    "files_and_directories = os.listdir('/home/rodrigo/repos/DATAVIZ_project/dataviz_venv/data')\n",
    "print(\"files and directories:\", files_and_directories)"
   ]
  },
  {
   "cell_type": "code",
   "execution_count": null,
   "id": "7803f880-4e6a-4dc4-90bc-4ea6374b070f",
   "metadata": {},
   "outputs": [
    {
     "ename": "",
     "evalue": "",
     "output_type": "error",
     "traceback": [
      "\u001b[1;31mRunning cells with '/bin/python3.10' requires the ipykernel package.\n",
      "\u001b[1;31mRun the following command to install 'ipykernel' into the Python environment. \n",
      "\u001b[1;31mCommand: '/bin/python3.10 -m pip install ipykernel -U --user --force-reinstall'"
     ]
    }
   ],
   "source": [
    "df = pd.read_csv('/home/rodrigo/repos/DATAVIZ_project/dataviz_venv/data/blood_indicators.csv')\n",
    "df.head()"
   ]
  },
  {
   "cell_type": "code",
   "execution_count": null,
   "id": "ca421545-1770-41a7-9d01-b08682000302",
   "metadata": {},
   "outputs": [
    {
     "ename": "",
     "evalue": "",
     "output_type": "error",
     "traceback": [
      "\u001b[1;31mRunning cells with '/bin/python3.10' requires the ipykernel package.\n",
      "\u001b[1;31mRun the following command to install 'ipykernel' into the Python environment. \n",
      "\u001b[1;31mCommand: '/bin/python3.10 -m pip install ipykernel -U --user --force-reinstall'"
     ]
    }
   ],
   "source": [
    "#renaming missing columns\n",
    "df.rename(columns={\n",
    "    'lbxsldsi': 'Lactate Dehydrogenase (U/L)',\n",
    "    'lbdsphsi': 'Phosphorus (mmol/L)',\n",
    "    'lbxsksi': 'Potassium (mmol/L)',\n",
    "    'lbxsgb': 'Globulin (g/dL)'\n",
    "}, inplace=True)\n",
    "\n",
    "df"
   ]
  },
  {
   "cell_type": "code",
   "execution_count": null,
   "id": "86cc0755-f228-4202-b6a3-f5e6dbee705d",
   "metadata": {},
   "outputs": [
    {
     "ename": "",
     "evalue": "",
     "output_type": "error",
     "traceback": [
      "\u001b[1;31mRunning cells with '/bin/python3.10' requires the ipykernel package.\n",
      "\u001b[1;31mRun the following command to install 'ipykernel' into the Python environment. \n",
      "\u001b[1;31mCommand: '/bin/python3.10 -m pip install ipykernel -U --user --force-reinstall'"
     ]
    }
   ],
   "source": [
    "# Healthy levels for young adults (age 20-39 years) - Reference ranges are approximate and may vary.\n",
    "healthy_levels_young_adults = {\n",
    "    \"Albumin (g/dL)\": {\"min\": 3.4, \"max\": 5.4},\n",
    "    \"Albumin (g/L)\": {\"min\": 34, \"max\": 54},\n",
    "    \"Alanine aminotransferase ALT (U/L)\": {\"min\": 5, \"max\": 40},\n",
    "    \"Aspartate aminotransferase AST (U/L)\": {\"min\": 8, \"max\": 48},\n",
    "    \"Alkaline phosphatase (U/L)\": {\"min\": 20, \"max\": 140},\n",
    "    \"Blood urea nitrogen (mg/dL)\": {\"min\": 8, \"max\": 25},\n",
    "    \"Blood urea nitrogen (mmol/L)\": {\"min\": 2.9, \"max\": 8.9},\n",
    "    \"Total calcium (mg/dL)\": {\"min\": 8.6, \"max\": 10.4},\n",
    "    \"Total calcium (mmol/L)\": {\"min\": 2.1, \"max\": 2.6},\n",
    "    \"Creatine Phosphokinase (CPK) (IU/L)\": {\"min\": 38, \"max\": 308},\n",
    "    \"Cholesterol (mg/dL)\": {\"min\": 125, \"max\": 200},\n",
    "    \"Cholesterol (mmol/L)\": {\"min\": 3.24, \"max\": 5.18},\n",
    "    \"Bicarbonate (mmol/L)\": {\"min\": 21, \"max\": 31},\n",
    "    \"Creatinine (mg/dL)\": {\"min\": 0.7, \"max\": 1.3},\n",
    "    \"Creatinine (umol/L)\": {\"min\": 61.9, \"max\": 115},\n",
    "    \"Gamma glutamyl transferase (U/L)\": {\"min\": 5, \"max\": 85},\n",
    "    \"Glucose, serum (mg/dL)\": {\"min\": 70, \"max\": 100},\n",
    "    \"Glucose, serum (mmol/L)\": {\"min\": 3.9, \"max\": 5.6},\n",
    "    \"Iron, refrigerated (ug/dL)\": {\"min\": 35, \"max\": 169},\n",
    "    \"Iron, refrigerated (umol/L)\": {\"min\": 6.26, \"max\": 30.29},\n",
    "    \"Potassium (mmol/L)\": {\"min\": 3.5, \"max\": 5.1},  \n",
    "    \"Phosphorus (mg/dL)\": {\"min\": 2.5, \"max\": 4.9},\n",
    "    \"Phosphorus (mmol/L)\": {\"min\": 0.81, \"max\": 1.58},  # Calculated from mg/dL\n",
    "    \"Total bilirubin (mg/dL)\": {\"min\": 0.2, \"max\": 1.2},\n",
    "    \"Total bilirubin (umol/L)\": {\"min\": 3.42, \"max\": 20.51},\n",
    "    \"Total protein (g/dL)\": {\"min\": 6.6, \"max\": 8.3},\n",
    "    \"Total protein (g/L)\": {\"min\": 66, \"max\": 83},\n",
    "    \"Uric acid (mg/dL)\": {\"min\": 2.4, \"max\": 7.2},\n",
    "    \"Uric acid (umol/L)\": {\"min\": 142, \"max\": 428},\n",
    "    \"Sodium (mmol/L)\": {\"min\": 135, \"max\": 146},\n",
    "    \"Lactate Dehydrogenase (U/L)\": {\"min\": 140, \"max\": 280},  \n",
    "    \"Chloride (mmol/L)\": {\"min\": 96, \"max\": 106},\n",
    "    \"Osmolality (mmol/Kg)\": {\"min\": 275, \"max\": 295},\n",
    "    \"Globulin (g/dL)\": {\"min\": 2.3, \"max\": 3.5},  \n",
    "    \"Globulin (g/L)\": {\"min\": 23, \"max\": 35},  \n",
    "    \"Triglycerides (mg/dL)\": {\"min\": 30, \"max\": 150},\n",
    "    \"Triglycerides (mmol/L)\": {\"min\": 0.34, \"max\": 1.69},\n",
    "}\n",
    "\n"
   ]
  },
  {
   "cell_type": "code",
   "execution_count": null,
   "id": "2aa0e49b-ce5e-40bc-adf7-0381171d7d81",
   "metadata": {},
   "outputs": [
    {
     "ename": "",
     "evalue": "",
     "output_type": "error",
     "traceback": [
      "\u001b[1;31mRunning cells with '/bin/python3.10' requires the ipykernel package.\n",
      "\u001b[1;31mRun the following command to install 'ipykernel' into the Python environment. \n",
      "\u001b[1;31mCommand: '/bin/python3.10 -m pip install ipykernel -U --user --force-reinstall'"
     ]
    }
   ],
   "source": [
    "# Get the first row excluding the first two columns with only blood indictors levels\n",
    "first_row = df.iloc[0][2:]\n",
    "first_row"
   ]
  },
  {
   "cell_type": "code",
   "execution_count": null,
   "id": "47a85d52-04a3-4c61-9a49-f6b626fb276d",
   "metadata": {},
   "outputs": [
    {
     "ename": "",
     "evalue": "",
     "output_type": "error",
     "traceback": [
      "\u001b[1;31mRunning cells with '/bin/python3.10' requires the ipykernel package.\n",
      "\u001b[1;31mRun the following command to install 'ipykernel' into the Python environment. \n",
      "\u001b[1;31mCommand: '/bin/python3.10 -m pip install ipykernel -U --user --force-reinstall'"
     ]
    }
   ],
   "source": [
    "# transfroming the first row to dict\n",
    "first_row_dict = first_row.to_dict()\n",
    "first_row_dict"
   ]
  },
  {
   "cell_type": "code",
   "execution_count": null,
   "id": "4aa2909d-fb59-4f3a-a037-6a75fcef006f",
   "metadata": {},
   "outputs": [
    {
     "ename": "",
     "evalue": "",
     "output_type": "error",
     "traceback": [
      "\u001b[1;31mRunning cells with '/bin/python3.10' requires the ipykernel package.\n",
      "\u001b[1;31mRun the following command to install 'ipykernel' into the Python environment. \n",
      "\u001b[1;31mCommand: '/bin/python3.10 -m pip install ipykernel -U --user --force-reinstall'"
     ]
    }
   ],
   "source": [
    "# function to get the correspondent color based on the reference range and where the level of the blood indicator sits\n",
    "# red - outside normal range\n",
    "# yellow - close to the edge\n",
    "# green - in normal range\n",
    "\n",
    "def get_blood_level_color(indicator_name, level, reference_ranges):\n",
    "    if indicator_name in reference_ranges:\n",
    "        reference = reference_ranges[indicator_name]\n",
    "        min_range = reference.get(\"min\")\n",
    "        max_range = reference.get(\"max\")\n",
    "\n",
    "        if min_range is not None and max_range is not None:\n",
    "            if level < min_range or level > max_range:\n",
    "                return \"red\"\n",
    "            elif abs(level - min_range) <= 0.2 * (max_range - min_range) or abs(level - max_range) <= 0.2 * (max_range - min_range):\n",
    "                return \"yellow\"\n",
    "            else:\n",
    "                return \"green\"\n",
    "        else:\n",
    "            return \"Unknown reference range\"\n",
    "    else:\n",
    "        return \"Indicator not found in the reference\"\n",
    "\n",
    "indicator_name = \"Cholesterol (mg/dL)\"\n",
    "level = 160\n",
    "color = get_blood_level_color(indicator_name, level, healthy_levels_young_adults)\n",
    "print(f\"The color for {indicator_name} at level {level} is {color}\")\n"
   ]
  },
  {
   "cell_type": "code",
   "execution_count": null,
   "id": "fef73a42-bcab-4cf9-850f-f7cb4a83fbc3",
   "metadata": {},
   "outputs": [
    {
     "ename": "",
     "evalue": "",
     "output_type": "error",
     "traceback": [
      "\u001b[1;31mRunning cells with '/bin/python3.10' requires the ipykernel package.\n",
      "\u001b[1;31mRun the following command to install 'ipykernel' into the Python environment. \n",
      "\u001b[1;31mCommand: '/bin/python3.10 -m pip install ipykernel -U --user --force-reinstall'"
     ]
    }
   ],
   "source": [
    "# fucntion to update the dict adding the correspondent color as a key value next to the blood level\n",
    "\n",
    "\n",
    "def color_mapping(indicators_data, reference_ranges):\n",
    "    colored_indicators = {}\n",
    "\n",
    "    for indicator_name, level in indicators_data.items():\n",
    "        colored_indicators[indicator_name] = [level, get_blood_level_color(indicator_name, level, reference_ranges)]\n",
    "    return colored_indicators\n",
    "\n",
    "\n",
    "def get_blood_level_color(indicator_name, level, reference_ranges):\n",
    "    if indicator_name in reference_ranges:\n",
    "        reference = reference_ranges[indicator_name]\n",
    "        min_range = reference.get(\"min\")\n",
    "        max_range = reference.get(\"max\")\n",
    "\n",
    "        if min_range is not None and max_range is not None:\n",
    "            if level < min_range or level > max_range:\n",
    "                return \"red\"\n",
    "            elif abs(level - min_range) <= 0.2 * (max_range - min_range) or abs(level - max_range) <= 0.2 * (\n",
    "                    max_range - min_range):\n",
    "                return \"yellow\"\n",
    "            else:\n",
    "                return \"green\"\n",
    "        else:\n",
    "            return \"Unknown reference range\"\n",
    "    else:\n",
    "        return \"Indicator not found in the reference\"\n",
    "\n",
    "\n",
    "# Example usage\n",
    "indicators_data = first_row_dict\n",
    "\n",
    "colored_indicators = color_mapping(indicators_data, healthy_levels_young_adults)\n",
    "\n",
    "\n",
    "colored_indicators\n",
    "          \n",
    "        "
   ]
  },
  {
   "cell_type": "code",
   "execution_count": null,
   "id": "12b3cc7f-cde6-4ccb-9602-a1b1aa91ae7b",
   "metadata": {},
   "outputs": [
    {
     "ename": "",
     "evalue": "",
     "output_type": "error",
     "traceback": [
      "\u001b[1;31mRunning cells with '/bin/python3.10' requires the ipykernel package.\n",
      "\u001b[1;31mRun the following command to install 'ipykernel' into the Python environment. \n",
      "\u001b[1;31mCommand: '/bin/python3.10 -m pip install ipykernel -U --user --force-reinstall'"
     ]
    }
   ],
   "source": [
    "# heatmap using the updated colored_indicators dict which contains the correspondent color already\n",
    "\n",
    "# Problem: the heatmap fucntion doesnt work, making the colors based on how high the value is, disrespecting different metrics\n",
    "\n",
    "import pandas as pd\n",
    "import numpy as np\n",
    "import matplotlib.pyplot as plt\n",
    "from matplotlib.colors import ListedColormap\n",
    "\n",
    "# Your provided data\n",
    "data = {'Albumin (g/dL)': [3.8, 'yellow'],\n",
    " 'Albumin (g/L)': [38.0, 'yellow'],\n",
    " 'Alanine aminotransferase ALT (U/L)': [14.0, 'green'],\n",
    " 'Aspartate aminotransferase AST (U/L)': [14.0, 'yellow'],\n",
    " 'Alkaline phosphatase (U/L)': [78.0, 'green'],\n",
    " 'Blood urea nitrogen (mg/dL)': [32.0, 'red'],\n",
    " 'Blood urea nitrogen (mmol/L)': [11.42, 'red'],\n",
    " 'Total calcium (mg/dL)': [9.1, 'green'],\n",
    " 'Total calcium (mmol/L)': [2.275, 'green'],\n",
    " 'Creatine Phosphokinase (CPK) (IU/L)': [47.0, 'yellow'],\n",
    " 'Cholesterol (mg/dL)': [86.0, 'red'],\n",
    " 'Cholesterol (mmol/L)': [2.224, 'red'],\n",
    " 'Bicarbonate (mmol/L)': [26.0, 'green'],\n",
    " 'Creatinine (mg/dL)': [1.46, 'red'],\n",
    " 'Creatinine (umol/L)': [129.06, 'red'],\n",
    " 'Gamma glutamyl transferase (U/L)': [9.0, 'yellow'],\n",
    " 'Glucose, serum (mg/dL)': [210.0, 'red'],\n",
    " 'Glucose, serum (mmol/L)': [11.66, 'red'],\n",
    " 'Iron, refrigerated (ug/dL)': [43.0, 'yellow'],\n",
    " 'Iron, refrigerated (umol/L)': [7.7, 'yellow'],\n",
    " 'Lactate Dehydrogenase (U/L)': [135.0, 'red'],\n",
    " 'Phosphorus (mg/dL)': [4.9, 'yellow'],\n",
    " 'Phosphorus (mmol/L)': [1.582, 'red'],\n",
    " 'Total bilirubin (mg/dL)': [0.7, 'green'],\n",
    " 'Total bilirubin (umol/L)': [11.97, 'green'],\n",
    " 'Total protein (g/dL)': [7.2, 'green'],\n",
    " 'Total protein (g/L)': [72.0, 'green'],\n",
    " 'Uric acid (mg/dL)': [7.0, 'yellow'],\n",
    " 'Uric acid (umol/L)': [416.4, 'yellow'],\n",
    " 'Sodium (mmol/L)': [138.0, 'green'],\n",
    " 'Potassium (mmol/L)': [4.3, 'green'],\n",
    " 'Chloride (mmol/L)': [104.0, 'yellow'],\n",
    " 'Osmolality (mmol/Kg)': [289.0, 'green'],\n",
    " 'Globulin (g/dL)': [3.4, 'yellow'],\n",
    " 'Globulin (g/L)': [34.0, 'yellow'],\n",
    " 'Triglycerides (mg/dL)': [122.0, 'green'],\n",
    " 'Triglycerides (mmol/L)': [1.377, 'green']\n",
    "       }\n",
    "\n",
    "# Create a DataFrame\n",
    "df = pd.DataFrame(data.values(), index=data.keys(), columns=['Level', 'Color'])\n",
    "\n",
    "# Define a custom colormap with three colors: green, yellow, and red\n",
    "colors = ['#00FF00', '#FFFF00', '#FF0000']\n",
    "cmap = ListedColormap(colors)\n",
    "\n",
    "# Reshape the data for the heatmap using pivot_table\n",
    "heatmap_data = df.pivot_table(index=df.index, columns=\"Color\", values=\"Level\", aggfunc='first', fill_value=np.nan)\n",
    "\n",
    "# Create the heatmap using Matplotlib\n",
    "fig, ax = plt.subplots()\n",
    "cax = ax.matshow(heatmap_data, cmap=cmap, aspect='auto')\n",
    "plt.colorbar(cax, fraction=0.03, pad=0.04)\n",
    "\n",
    "# Set x-axis ticks and labels\n",
    "ax.set_xticks(np.arange(len(heatmap_data.columns) + 1))  # Add 1 to the number of ticks\n",
    "ax.set_xticklabels([''] + list(heatmap_data.columns))  # Add an empty label as the first one\n",
    "\n",
    "# Set y-axis ticks and labels\n",
    "ax.set_yticks(np.arange(len(heatmap_data.index)))\n",
    "ax.set_yticklabels(heatmap_data.index)\n",
    "\n",
    "\n",
    "plt.setp(ax.get_xticklabels(), rotation=45, ha=\"right\", rotation_mode=\"anchor\")\n",
    "plt.xlabel(\"Color/Level\")\n",
    "plt.ylabel(\"Blood Indicator\")\n",
    "plt.title(\"Blood Indicator Heatmap\")\n",
    "\n",
    "# Show values in the heatmap\n",
    "for i in range(len(heatmap_data.index)):\n",
    "    for j in range(len(heatmap_data.columns)):\n",
    "        value = heatmap_data.iloc[i, j]\n",
    "        if not np.isnan(value):\n",
    "            ax.text(j, i, f'{value:.2f}', ha=\"center\", va=\"center\", color='black')\n",
    "\n",
    "plt.tight_layout()\n",
    "plt.show()\n",
    "\n"
   ]
  },
  {
   "cell_type": "code",
   "execution_count": null,
   "id": "1a9f16f4-4a22-4b4c-9198-58738a8866ce",
   "metadata": {},
   "outputs": [
    {
     "ename": "",
     "evalue": "",
     "output_type": "error",
     "traceback": [
      "\u001b[1;31mRunning cells with '/bin/python3.10' requires the ipykernel package.\n",
      "\u001b[1;31mRun the following command to install 'ipykernel' into the Python environment. \n",
      "\u001b[1;31mCommand: '/bin/python3.10 -m pip install ipykernel -U --user --force-reinstall'"
     ]
    }
   ],
   "source": [
    "\n",
    "# Create the heatmap using Matplotlib\n",
    "fig, ax = plt.subplots(figsize=(8, 10))\n",
    "cax = ax.matshow(df['Level'].values.reshape(1, -1), cmap=ListedColormap(df['Color'].tolist()), aspect='auto')\n",
    "\n",
    "plt.colorbar(cax, fraction=0.03, pad=0.04)\n",
    "\n",
    "# Set x-axis ticks and labels\n",
    "ax.set_xticks([])\n",
    "ax.set_xticklabels([])\n",
    "\n",
    "# Set y-axis ticks and labels\n",
    "ax.set_yticks(np.arange(len(df)))\n",
    "ax.set_yticklabels(df.index)\n",
    "\n",
    "plt.ylabel(\"Blood Indicator\")\n",
    "plt.title(\"Blood Indicator Heatmap\")\n",
    "\n",
    "# Show values in the heatmap\n",
    "for i, value in enumerate(df['Level']):\n",
    "    ax.text(i, 0, f'{value:.2f}', ha=\"center\", va=\"center\", color='black')\n",
    "\n",
    "plt.tight_layout()\n",
    "plt.show()\n"
   ]
  },
  {
   "cell_type": "code",
   "execution_count": null,
   "id": "f665ca3b-cb8e-4537-b959-9b395ec79d68",
   "metadata": {},
   "outputs": [
    {
     "ename": "",
     "evalue": "",
     "output_type": "error",
     "traceback": [
      "\u001b[1;31mRunning cells with '/bin/python3.10' requires the ipykernel package.\n",
      "\u001b[1;31mRun the following command to install 'ipykernel' into the Python environment. \n",
      "\u001b[1;31mCommand: '/bin/python3.10 -m pip install ipykernel -U --user --force-reinstall'"
     ]
    }
   ],
   "source": [
    "df"
   ]
  },
  {
   "cell_type": "code",
   "execution_count": null,
   "id": "2cd71424-65a9-484c-bead-b24b10108cc7",
   "metadata": {},
   "outputs": [
    {
     "ename": "",
     "evalue": "",
     "output_type": "error",
     "traceback": [
      "\u001b[1;31mRunning cells with '/bin/python3.10' requires the ipykernel package.\n",
      "\u001b[1;31mRun the following command to install 'ipykernel' into the Python environment. \n",
      "\u001b[1;31mCommand: '/bin/python3.10 -m pip install ipykernel -U --user --force-reinstall'"
     ]
    }
   ],
   "source": [
    "# colors correct but levels missing\n",
    "\n",
    "# Create the heatmap using Matplotlib\n",
    "fig, ax = plt.subplots(figsize=(8, 12))\n",
    "cax = ax.matshow(df['Level'].values.reshape(-1, 1), cmap=ListedColormap(df['Color'].tolist()), aspect='auto')\n",
    "\n",
    "# Set y-axis ticks and labels\n",
    "ax.set_yticks(np.arange(len(df)))\n",
    "ax.set_yticklabels(df.index)\n",
    "\n",
    "# Show values in the heatmap\n",
    "for i, (indicator, values) in enumerate(df.iterrows()):\n",
    "    color = values['Color']\n",
    "    level = values['Level']\n",
    "    ax.text(0.5, i, f'{indicator}\\n{level:.2f}', ha=\"center\", va=\"center\", color=color)\n",
    "\n",
    "plt.title(\"Blood Indicator Heatmap\")\n",
    "plt.show()"
   ]
  },
  {
   "cell_type": "code",
   "execution_count": null,
   "id": "40b95035-b30b-4f6f-9fd9-5ab90002c2c6",
   "metadata": {},
   "outputs": [
    {
     "ename": "",
     "evalue": "",
     "output_type": "error",
     "traceback": [
      "\u001b[1;31mRunning cells with '/bin/python3.10' requires the ipykernel package.\n",
      "\u001b[1;31mRun the following command to install 'ipykernel' into the Python environment. \n",
      "\u001b[1;31mCommand: '/bin/python3.10 -m pip install ipykernel -U --user --force-reinstall'"
     ]
    }
   ],
   "source": [
    "\n",
    "# Create the heatmap using Matplotlib\n",
    "fig, ax = plt.subplots(figsize=(8, 12))\n",
    "cax = ax.matshow(df['Level'].values.reshape(-1, 1), cmap=ListedColormap(df['Color'].tolist()), aspect='auto')\n",
    "\n",
    "# Set y-axis ticks and labels\n",
    "ax.set_yticks(np.arange(len(df)))\n",
    "ax.set_yticklabels(df.index)\n",
    "\n",
    "# Show values in the heatmap\n",
    "for i, (indicator, values) in enumerate(df.iterrows()):\n",
    "    color = values['Color']\n",
    "    \n",
    "    # Get the middle of the color display\n",
    "    color_display_middle = (cax.get_clim()[0] + cax.get_clim()[1]) / 2\n",
    "    \n",
    "    ax.text(0.5, i, '', ha=\"center\", va=\"center\", color='black', bbox=dict(facecolor=color, edgecolor='black', boxstyle='round', pad=0.5))\n",
    "\n",
    "plt.title(\"Blood Indicator Heatmap\")\n",
    "plt.show()"
   ]
  },
  {
   "cell_type": "code",
   "execution_count": null,
   "id": "f2d7ebe9-670c-4d6d-a12d-6d2e41d98d74",
   "metadata": {},
   "outputs": [
    {
     "ename": "",
     "evalue": "",
     "output_type": "error",
     "traceback": [
      "\u001b[1;31mRunning cells with '/bin/python3.10' requires the ipykernel package.\n",
      "\u001b[1;31mRun the following command to install 'ipykernel' into the Python environment. \n",
      "\u001b[1;31mCommand: '/bin/python3.10 -m pip install ipykernel -U --user --force-reinstall'"
     ]
    }
   ],
   "source": [
    "# removed wrong numbers on top in the x axis\n",
    "\n",
    "# Create the heatmap using Matplotlib\n",
    "fig, ax = plt.subplots(figsize=(8, 12))\n",
    "cax = ax.matshow(df['Level'].values.reshape(-1, 1), cmap=ListedColormap(df['Color'].tolist()), aspect='auto')\n",
    "\n",
    "# Set y-axis ticks and labels\n",
    "ax.set_yticks(np.arange(len(df)))\n",
    "ax.set_yticklabels(df.index)\n",
    "\n",
    "# Hide x-axis ticks and labels\n",
    "ax.set_xticks([])\n",
    "ax.set_xticklabels([])\n",
    "\n",
    "# Show values in the heatmap\n",
    "for i, (indicator, values) in enumerate(df.iterrows()):\n",
    "    color = values['Color']\n",
    "    \n",
    "    # Get the middle of the color display\n",
    "    color_display_middle = (cax.get_clim()[0] + cax.get_clim()[1]) / 2\n",
    "    \n",
    "    ax.text(0.5, i, '', ha=\"center\", va=\"center\", color='black', bbox=dict(facecolor=color, edgecolor='black', boxstyle='round', pad=0.5))\n",
    "\n",
    "plt.title(\"Blood Indicator Heatmap\")\n",
    "plt.show()"
   ]
  },
  {
   "cell_type": "code",
   "execution_count": null,
   "id": "bc94bc8c-4728-4223-ada0-911752cc390e",
   "metadata": {},
   "outputs": [
    {
     "ename": "",
     "evalue": "",
     "output_type": "error",
     "traceback": [
      "\u001b[1;31mRunning cells with '/bin/python3.10' requires the ipykernel package.\n",
      "\u001b[1;31mRun the following command to install 'ipykernel' into the Python environment. \n",
      "\u001b[1;31mCommand: '/bin/python3.10 -m pip install ipykernel -U --user --force-reinstall'"
     ]
    }
   ],
   "source": [
    "# Create the heatmap using Matplotlib\n",
    "fig, ax = plt.subplots(figsize=(8, 12))\n",
    "cax = ax.matshow(df['Level'].values.reshape(-1, 1), cmap=ListedColormap(df['Color'].tolist()), aspect='auto')\n",
    "\n",
    "# Set y-axis ticks and labels\n",
    "ax.set_yticks(np.arange(len(df)))\n",
    "ax.set_yticklabels(df.index)\n",
    "\n",
    "# Hide x-axis ticks and labels\n",
    "ax.set_xticks([])\n",
    "ax.set_xticklabels([])\n",
    "\n",
    "# Hide colorbar ticks and labels\n",
    "cbar = plt.colorbar(cax, fraction=0.03, pad=0.04)\n",
    "cbar.set_ticks([])\n",
    "\n",
    "# Show values in the heatmap\n",
    "for i, (indicator, values) in enumerate(df.iterrows()):\n",
    "    color = values['Color']\n",
    "    \n",
    "    # Get the middle of the color display\n",
    "    color_display_middle = (cax.get_clim()[0] + cax.get_clim()[1]) / 2\n",
    "    \n",
    "    ax.text(0.5, i, '', ha=\"center\", va=\"center\", color='black', bbox=dict(facecolor=color, edgecolor='black', boxstyle='round', pad=0.5))\n",
    "\n",
    "plt.title(\"Blood Indicator Heatmap\")\n",
    "plt.show()"
   ]
  },
  {
   "cell_type": "code",
   "execution_count": null,
   "id": "d7bb5bba-7079-484c-b398-bd29c4c8349a",
   "metadata": {},
   "outputs": [
    {
     "ename": "",
     "evalue": "",
     "output_type": "error",
     "traceback": [
      "\u001b[1;31mRunning cells with '/bin/python3.10' requires the ipykernel package.\n",
      "\u001b[1;31mRun the following command to install 'ipykernel' into the Python environment. \n",
      "\u001b[1;31mCommand: '/bin/python3.10 -m pip install ipykernel -U --user --force-reinstall'"
     ]
    }
   ],
   "source": [
    "# added black line for better readability\n",
    "\n",
    "# Create the heatmap using Matplotlib\n",
    "fig, ax = plt.subplots(figsize=(8, 12))\n",
    "cax = ax.matshow(df['Level'].values.reshape(-1, 1), cmap=ListedColormap(df['Color'].tolist()), aspect='auto')\n",
    "\n",
    "# Set y-axis ticks and labels\n",
    "ax.set_yticks(np.arange(len(df)))\n",
    "ax.set_yticklabels(df.index)\n",
    "\n",
    "# Hide x-axis ticks and labels\n",
    "ax.set_xticks([])\n",
    "ax.set_xticklabels([])\n",
    "\n",
    "\n",
    "# Show values in the heatmap\n",
    "for i, (indicator, values) in enumerate(df.iterrows()):\n",
    "    color = values['Color']\n",
    "    \n",
    "    # Get the middle of the color display\n",
    "    color_display_middle = (cax.get_clim()[0] + cax.get_clim()[1]) / 2\n",
    "    \n",
    "    ax.text(0.5, i, '', ha=\"center\", va=\"center\", color='black', bbox=dict(facecolor=color, edgecolor='black', boxstyle='round', pad=0.5, linewidth=0.5))\n",
    "\n",
    "    # Add vertical line to separate each y label\n",
    "    ax.axhline(i, color='black', linewidth=0.5)\n",
    "\n",
    "plt.title(\"Blood Indicator Heatmap\")\n",
    "plt.show()"
   ]
  },
  {
   "cell_type": "code",
   "execution_count": null,
   "id": "38838995-7837-4a1b-bf4f-9ab7245d8827",
   "metadata": {},
   "outputs": [
    {
     "ename": "",
     "evalue": "",
     "output_type": "error",
     "traceback": [
      "\u001b[1;31mRunning cells with '/bin/python3.10' requires the ipykernel package.\n",
      "\u001b[1;31mRun the following command to install 'ipykernel' into the Python environment. \n",
      "\u001b[1;31mCommand: '/bin/python3.10 -m pip install ipykernel -U --user --force-reinstall'"
     ]
    }
   ],
   "source": [
    "\n",
    "from matplotlib.colors import ListedColormap\n",
    "\n",
    "\n",
    "# Assuming df is your DataFrame\n",
    "\n",
    "# Create the heatmap using Matplotlib\n",
    "fig, ax = plt.subplots(figsize=(8, 12))\n",
    "cax = ax.matshow(df['Level'].values.reshape(-1, 1), cmap=ListedColormap(df['Color'].tolist()), aspect='auto')\n",
    "\n",
    "# Set y-axis ticks and labels\n",
    "ax.set_yticks(np.arange(len(df)))\n",
    "ax.set_yticklabels(df.index)\n",
    "\n",
    "# Show blood indicator levels in the heatmap\n",
    "for i, (indicator, values) in enumerate(df.iterrows()):\n",
    "    color = values['Color']\n",
    "    \n",
    "    # Get the middle of the color display\n",
    "    color_display_middle = (cax.get_clim()[0] + cax.get_clim()[1]) / 2\n",
    "    \n",
    "    # Display blood indicator levels on the right side of the heatmap\n",
    "    ax.text(1.5, i, f'{values[\"Level\"]:.3f}', ha=\"center\", va=\"center\", color='black')\n",
    "\n",
    "    # Display color-coded indicators on the left side of the heatmap\n",
    "    ax.text(0.5, i, '', ha=\"center\", va=\"center\", color='black', bbox=dict(facecolor=color, edgecolor='black', boxstyle='round', pad=0.5))\n",
    "\n",
    "# Hide x-axis ticks and labels\n",
    "ax.set_xticks([])\n",
    "ax.set_xticklabels([])\n",
    "\n",
    "# Add a title\n",
    "plt.title(\"Blood Indicator Heatmap with Levels\")\n",
    "plt.show()\n",
    "\n"
   ]
  },
  {
   "cell_type": "code",
   "execution_count": null,
   "id": "58f2d32f-94cd-480c-a3f0-7f90af9abc4d",
   "metadata": {},
   "outputs": [
    {
     "ename": "",
     "evalue": "",
     "output_type": "error",
     "traceback": [
      "\u001b[1;31mRunning cells with '/bin/python3.10' requires the ipykernel package.\n",
      "\u001b[1;31mRun the following command to install 'ipykernel' into the Python environment. \n",
      "\u001b[1;31mCommand: '/bin/python3.10 -m pip install ipykernel -U --user --force-reinstall'"
     ]
    }
   ],
   "source": [
    "import matplotlib.pyplot as plt\n",
    "from matplotlib.colors import ListedColormap\n",
    "import numpy as np\n",
    "import pandas as pd\n",
    "\n",
    "# Assuming df is your DataFrame\n",
    "\n",
    "# Create the heatmap using Matplotlib\n",
    "fig, ax = plt.subplots(figsize=(8, 12))\n",
    "heatmap = ax.matshow(df['Level'].values.reshape(-1, 1), cmap=ListedColormap(df['Color'].tolist()), aspect='auto')\n",
    "\n",
    "# Set y-axis ticks and labels\n",
    "ax.set_yticks(np.arange(len(df)))\n",
    "ax.set_yticklabels(df.index)\n",
    "\n",
    "# Show blood indicator levels in the center of x label\n",
    "for i, (indicator, values) in enumerate(df.iterrows()):\n",
    "    color = values['Color']\n",
    "    \n",
    "    # Get the middle of the color display\n",
    "    color_display_middle = (heatmap.get_clim()[0] + heatmap.get_clim()[1]) / 2\n",
    "    \n",
    "    # Display rounded blood indicator levels in the center of x label\n",
    "    ax.text(0.5, i, f'{round(values[\"Level\"], 3)}', ha=\"left\", va=\"center\", color='black')\n",
    "\n",
    "    # Add vertical line to separate each y label\n",
    "    ax.axhline(i, color='black', linewidth=0.5)\n",
    "\n",
    "# Hide x-axis ticks and labels\n",
    "ax.set_xticks([])\n",
    "ax.set_xticklabels([])\n",
    "\n",
    "# Add a title\n",
    "plt.title(\"Blood Indicator Heatmap\")\n",
    "plt.show()\n",
    "\n",
    "\n"
   ]
  },
  {
   "cell_type": "code",
   "execution_count": null,
   "id": "238284b3-856d-4856-88c1-7f2dfbddefba",
   "metadata": {},
   "outputs": [
    {
     "ename": "",
     "evalue": "",
     "output_type": "error",
     "traceback": [
      "\u001b[1;31mRunning cells with '/bin/python3.10' requires the ipykernel package.\n",
      "\u001b[1;31mRun the following command to install 'ipykernel' into the Python environment. \n",
      "\u001b[1;31mCommand: '/bin/python3.10 -m pip install ipykernel -U --user --force-reinstall'"
     ]
    }
   ],
   "source": [
    "import matplotlib.pyplot as plt\n",
    "from matplotlib.colors import ListedColormap\n",
    "import numpy as np\n",
    "import pandas as pd\n",
    "\n",
    "# Assuming df is your DataFrame\n",
    "\n",
    "# Create the heatmap using Matplotlib\n",
    "fig, ax = plt.subplots(figsize=(8, 12))\n",
    "heatmap = ax.matshow(df['Level'].values.reshape(-1, 1), cmap=ListedColormap(df['Color'].tolist()), aspect='auto')\n",
    "\n",
    "# Set y-axis ticks and labels\n",
    "ax.set_yticks(np.arange(len(df)))\n",
    "ax.set_yticklabels(df.index)\n",
    "\n",
    "# Show blood indicator levels in the center of x label\n",
    "for i, (indicator, values) in enumerate(df.iterrows()):\n",
    "    color = values['Color']\n",
    "    \n",
    "    # Get the middle of the color display\n",
    "    color_display_middle = (heatmap.get_clim()[0] + heatmap.get_clim()[1]) / 2\n",
    "    \n",
    "    # Display blood indicator levels in the center of x label\n",
    "    ax.text(0.5, i, f'{values[\"Level\"]:.3f}', ha=\"left\", va=\"center\", color='black')\n",
    "\n",
    "# Hide x-axis ticks and labels\n",
    "ax.set_xticks([])\n",
    "ax.set_xticklabels([])\n",
    "\n",
    "# Add a title\n",
    "plt.title(\"Blood Indicator Heatmap\")\n",
    "plt.show()\n",
    "\n"
   ]
  },
  {
   "cell_type": "code",
   "execution_count": null,
   "id": "ecd2d912-5fce-4522-a1f0-5825e9b4da64",
   "metadata": {},
   "outputs": [
    {
     "ename": "",
     "evalue": "",
     "output_type": "error",
     "traceback": [
      "\u001b[1;31mRunning cells with '/bin/python3.10' requires the ipykernel package.\n",
      "\u001b[1;31mRun the following command to install 'ipykernel' into the Python environment. \n",
      "\u001b[1;31mCommand: '/bin/python3.10 -m pip install ipykernel -U --user --force-reinstall'"
     ]
    }
   ],
   "source": [
    "# Calculate the percentage of each color\n",
    "color_count = df['Color'].value_counts()\n",
    "percentage = (color_count / len(df)) * 100\n",
    "percentage = dict(percentage)\n",
    "percentage"
   ]
  },
  {
   "cell_type": "code",
   "execution_count": null,
   "id": "29e0b3a6-d639-493d-a6bc-9e2cf1a51c95",
   "metadata": {},
   "outputs": [
    {
     "ename": "",
     "evalue": "",
     "output_type": "error",
     "traceback": [
      "\u001b[1;31mRunning cells with '/bin/python3.10' requires the ipykernel package.\n",
      "\u001b[1;31mRun the following command to install 'ipykernel' into the Python environment. \n",
      "\u001b[1;31mCommand: '/bin/python3.10 -m pip install ipykernel -U --user --force-reinstall'"
     ]
    }
   ],
   "source": [
    "\n",
    "colors = ['#00FF00', '#FFFF00', '#FF0000']\n",
    "\n",
    "# Plotting the pie chart\n",
    "fig, ax = plt.subplots()\n",
    "ax.pie(percentage.values(), labels=percentage.keys(), autopct='%1.1f%%', startangle=90, colors=colors)\n",
    "ax.axis('equal')  # Equal aspect ratio ensures that pie is drawn as a circle.\n",
    "\n",
    "# Adding a title\n",
    "plt.title('Color Distribution')\n",
    "\n",
    "# Display the pie chart\n",
    "plt.show()"
   ]
  },
  {
   "cell_type": "code",
   "execution_count": null,
   "id": "4f54dbc6-66f6-4ea8-9eb5-8fe90f914d81",
   "metadata": {},
   "outputs": [
    {
     "ename": "",
     "evalue": "",
     "output_type": "error",
     "traceback": [
      "\u001b[1;31mRunning cells with '/bin/python3.10' requires the ipykernel package.\n",
      "\u001b[1;31mRun the following command to install 'ipykernel' into the Python environment. \n",
      "\u001b[1;31mCommand: '/bin/python3.10 -m pip install ipykernel -U --user --force-reinstall'"
     ]
    }
   ],
   "source": [
    "\n",
    "\n",
    "colors = ['#006400', '#FFFF00', '#FF0000']\n",
    "\n",
    "# Plotting the pie chart\n",
    "fig, ax = plt.subplots()\n",
    "ax.pie(percentage.values(), labels=percentage.keys(), autopct='%1.1f%%', startangle=90, colors=colors)\n",
    "ax.axis('equal')  # Equal aspect ratio ensures that pie is drawn as a circle.\n",
    "\n",
    "# Adding a title\n",
    "plt.title('Color Distribution')\n",
    "\n",
    "# Display the pie chart\n",
    "plt.show()\n",
    "\n"
   ]
  },
  {
   "cell_type": "code",
   "execution_count": null,
   "id": "1d78e379-8fe5-4892-8b01-f027cedf6c83",
   "metadata": {},
   "outputs": [
    {
     "ename": "",
     "evalue": "",
     "output_type": "error",
     "traceback": [
      "\u001b[1;31mRunning cells with '/bin/python3.10' requires the ipykernel package.\n",
      "\u001b[1;31mRun the following command to install 'ipykernel' into the Python environment. \n",
      "\u001b[1;31mCommand: '/bin/python3.10 -m pip install ipykernel -U --user --force-reinstall'"
     ]
    }
   ],
   "source": [
    "# trying to implement gradient visualization but visualization gets worse\n",
    "\n",
    "from matplotlib.colors import LinearSegmentedColormap\n",
    "\n",
    "\n",
    "\n",
    "# Create the heatmap using Matplotlib\n",
    "fig, ax = plt.subplots(figsize=(8, 12))\n",
    "cax = ax.matshow(df['Level'].values.reshape(-1, 1), cmap='RdYlGn', aspect='auto')\n",
    "\n",
    "# Set y-axis ticks and labels\n",
    "ax.set_yticks(np.arange(len(df)))\n",
    "ax.set_yticklabels(df.index)\n",
    "\n",
    "# Hide x-axis ticks and labels\n",
    "ax.set_xticks([])\n",
    "ax.set_xticklabels([])\n",
    "\n",
    "# Create a custom colormap with three colors: green, yellow, and red\n",
    "colors = ['#00FF00', '#FFFF00', '#FF0000']\n",
    "cmap = LinearSegmentedColormap.from_list('Custom', colors, N=256)\n",
    "\n",
    "# Customize colorbar\n",
    "cbar = plt.colorbar(cax, fraction=0.04, pad=0.04, cmap=cmap, ticks=[0, 1])\n",
    "cbar.set_label('Color Range')  # Set label for the colorbar\n",
    "\n",
    "# Show values in the heatmap\n",
    "for i, (indicator, values) in enumerate(df.iterrows()):\n",
    "    color = values['Color']\n",
    "    \n",
    "    # Get the middle of the color display\n",
    "    color_display_middle = (cax.get_clim()[0] + cax.get_clim()[1]) / 2\n",
    "    \n",
    "    ax.text(0.5, i, '', ha=\"center\", va=\"center\", color='black', bbox=dict(facecolor=color, edgecolor='black', boxstyle='round', pad=0.5, linewidth=0.5))\n",
    "\n",
    "    # Add vertical line to separate each y label\n",
    "    ax.axhline(i, color='black', linewidth=0.5)\n",
    "\n",
    "plt.title(\"Blood Indicator Heatmap\")\n",
    "plt.show()\n",
    "\n",
    "\n",
    "\n"
   ]
  },
  {
   "cell_type": "code",
   "execution_count": null,
   "id": "b6c7967c-a349-42d8-84c7-ae75378b62b2",
   "metadata": {},
   "outputs": [
    {
     "ename": "",
     "evalue": "",
     "output_type": "error",
     "traceback": [
      "\u001b[1;31mRunning cells with '/bin/python3.10' requires the ipykernel package.\n",
      "\u001b[1;31mRun the following command to install 'ipykernel' into the Python environment. \n",
      "\u001b[1;31mCommand: '/bin/python3.10 -m pip install ipykernel -U --user --force-reinstall'"
     ]
    }
   ],
   "source": [
    "\n"
   ]
  },
  {
   "cell_type": "code",
   "execution_count": null,
   "id": "e0064f87-64eb-46b5-9dd4-5c693438eeca",
   "metadata": {},
   "outputs": [
    {
     "ename": "",
     "evalue": "",
     "output_type": "error",
     "traceback": [
      "\u001b[1;31mRunning cells with '/bin/python3.10' requires the ipykernel package.\n",
      "\u001b[1;31mRun the following command to install 'ipykernel' into the Python environment. \n",
      "\u001b[1;31mCommand: '/bin/python3.10 -m pip install ipykernel -U --user --force-reinstall'"
     ]
    }
   ],
   "source": [
    "# fucntion to tranform into FHIR format\n",
    "\n",
    "\n",
    "import json\n",
    "from datetime import datetime\n",
    "\n",
    "def transform_to_fhir_blood_test(data, patient_reference=\"Patient/12345\"):\n",
    "    fhir_observation = {\n",
    "        \"resourceType\": \"Observation\",\n",
    "        \"status\": \"final\",\n",
    "        \"category\": [\n",
    "            {\n",
    "                \"coding\": [\n",
    "                    {\n",
    "                        \"system\": \"http://terminology.hl7.org/CodeSystem/observation-category\",\n",
    "                        \"code\": \"laboratory\",\n",
    "                        \"display\": \"Laboratory\"\n",
    "                    }\n",
    "                ],\n",
    "                \"text\": \"Laboratory\"\n",
    "            }\n",
    "        ],\n",
    "        \"code\": {\n",
    "            \"coding\": [\n",
    "                {\n",
    "                    \"system\": \"http://loinc.org\",\n",
    "                    \"code\": \"24357-5\",\n",
    "                    \"display\": \"Blood Panel\"\n",
    "                }\n",
    "            ],\n",
    "            \"text\": \"Blood Panel\"\n",
    "        },\n",
    "        \"subject\": {\n",
    "            \"reference\": patient_reference\n",
    "        },\n",
    "        \"effectiveDateTime\": datetime.now().isoformat(),\n",
    "        \"component\": []\n",
    "    }\n",
    "\n",
    "    for test_name, (result_value, color) in data.items():\n",
    "        unit, unit_code = determine_unit_and_code(test_name)\n",
    "        interpretation_code = determine_interpretation_code(color)\n",
    "        component = {\n",
    "            \"code\": {\n",
    "                \"text\": test_name\n",
    "            },\n",
    "            \"valueQuantity\": {\n",
    "                \"value\": result_value,\n",
    "                \"unit\": unit,\n",
    "                \"system\": \"http://unitsofmeasure.org\",\n",
    "                \"code\": unit_code\n",
    "            },\n",
    "            \"interpretation\": {\n",
    "                \"coding\": [\n",
    "                    {\n",
    "                        \"system\": \"http://terminology.hl7.org/CodeSystem/v3-ObservationInterpretation\",\n",
    "                        \"code\": interpretation_code,\n",
    "                        \"display\": interpretation_code.capitalize()\n",
    "                    }\n",
    "                ]\n",
    "            }\n",
    "        }\n",
    "        fhir_observation[\"component\"].append(component)\n",
    "\n",
    "    return json.dumps(fhir_observation, indent=2)\n",
    "\n",
    "def determine_unit_and_code(test_name):\n",
    "    # Add logic to determine the unit and unit code based on the test name\n",
    "    # You might need more sophisticated logic or external reference data\n",
    "    if \"mg/dL\" in test_name:\n",
    "        return \"mg/dL\", \"mg/dL\"\n",
    "    elif \"g/dL\" in test_name:\n",
    "        return \"g/dL\", \"g/dL\"\n",
    "    elif \"U/L\" in test_name:\n",
    "        return \"U/L\", \"U/L\"\n",
    "    elif \"mmol/L\" in test_name:\n",
    "        return \"mmol/L\", \"mmol/L\"\n",
    "    elif \"ug/dL\" in test_name:\n",
    "        return \"ug/dL\", \"ug/dL\"\n",
    "    elif \"umol/L\" in test_name:\n",
    "        return \"umol/L\", \"umol/L\"\n",
    "    else:\n",
    "        return \"unknown\", \"unknown\"\n",
    "\n",
    "def determine_interpretation_code(color):\n",
    "    # Map color to interpretation code based on the provided mapping\n",
    "    if color.lower() == \"green\":\n",
    "        return \"N\"  # Normal range\n",
    "    elif color.lower() == \"yellow\":\n",
    "        return \"R\"  # Medium range\n",
    "    elif color.lower() == \"red\":\n",
    "        return \"H\"  # Extreme range\n",
    "    else:\n",
    "        return \"unknown\"\n",
    "\n",
    "# Example usage:\n",
    "blood_test_data = {\n",
    "    \"Albumin (g/dL)\": [3.8, \"yellow\"],\n",
    "    \"Albumin (g/L)\": [38.0, \"yellow\"],\n",
    "    \"Alanine aminotransferase ALT (U/L)\": [14.0, \"green\"],\n",
    "    \"Aspartate aminotransferase AST (U/L)\": [14.0, \"yellow\"],\n",
    "    \"Alkaline phosphatase (U/L)\": [78.0, \"green\"],\n",
    "    \"Blood urea nitrogen (mg/dL)\": [32.0, \"red\"],\n",
    "    \"Blood urea nitrogen (mmol/L)\": [11.42, \"red\"],\n",
    "    \"Total calcium (mg/dL)\": [9.1, \"green\"],\n",
    "    \"Total calcium (mmol/L)\": [2.275, \"green\"],\n",
    "    \"Creatine Phosphokinase (CPK) (IU/L)\": [47.0, \"Unknown reference range\"],\n",
    "    \"Cholesterol (mg/dL)\": [86.0, \"red\"],\n",
    "    \"Cholesterol (mmol/L)\": [2.224, \"red\"],\n",
    "    \"Bicarbonate (mmol/L)\": [26.0, \"green\"],\n",
    "    \"Creatinine (mg/dL)\": [1.46, \"red\"],\n",
    "    \"Creatinine (umol/L)\": [129.06, \"red\"],\n",
    "    \"Gamma glutamyl transferase (U/L)\": [9.0, \"yellow\"],\n",
    "    \"Glucose, serum (mg/dL)\": [210.0, \"red\"],\n",
    "    \"Glucose, serum (mmol/L)\": [11.66, \"red\"],\n",
    "    \"Iron, refrigerated (ug/dL)\": [43.0, \"yellow\"],\n",
    "    \"Iron, refrigerated (umol/L)\": [7.7, \"yellow\"],\n",
    "    \"lbxsldsi\": [135.0, \"Unknown reference range\"],\n",
    "    \"Phosphorus (mg/dL)\": [4.9, \"yellow\"],\n",
    "    \"lbdsphsi\": [1.582, \"Unknown reference range\"],\n",
    "    \"Total bilirubin (mg/dL)\": [0.7, \"green\"],\n",
    "    \"Total bilirubin (umol/L)\": [11.97, \"green\"],\n",
    "    \"Total protein (g/dL)\": [7.2, \"green\"],\n",
    "    \"Total protein (g/L)\": [72.0, \"green\"],\n",
    "    \"Uric acid (mg/dL)\": [7.0, \"yellow\"],\n",
    "    \"Uric acid (umol/L)\": [416.4, \"yellow\"],\n",
    "    \"Sodium (mmol/L)\": [138.0, \"green\"],\n",
    "    \"lbxsksi\": [4.3, \"Unknown reference range\"],\n",
    "    \"Chloride (mmol/L)\": [104.0, \"yellow\"],\n",
    "    \"Osmolality (mmol/Kg)\": [289.0, \"green\"],\n",
    "    \"lbxsgb\": [3.4, \"Unknown reference range\"],\n",
    "    \"Globulin (g/L)\": [34.0, \"yellow\"],\n",
    "    \"Triglycerides (mg/dL)\": [122.0, \"green\"],\n",
    "    \"Triglycerides (mmol/L)\": [1.377, \"green\"]\n",
    "}\n",
    "\n",
    "fhir_observation_json = transform_to_fhir_blood_test(blood_test_data)\n",
    "print(fhir_observation_json)\n"
   ]
  },
  {
   "cell_type": "code",
   "execution_count": null,
   "id": "4d827527-0bd1-4e88-a768-1febe0c7d647",
   "metadata": {},
   "outputs": [
    {
     "ename": "",
     "evalue": "",
     "output_type": "error",
     "traceback": [
      "\u001b[1;31mRunning cells with '/bin/python3.10' requires the ipykernel package.\n",
      "\u001b[1;31mRun the following command to install 'ipykernel' into the Python environment. \n",
      "\u001b[1;31mCommand: '/bin/python3.10 -m pip install ipykernel -U --user --force-reinstall'"
     ]
    }
   ],
   "source": []
  }
 ],
 "metadata": {
  "kernelspec": {
   "display_name": "Python 3 (ipykernel)",
   "language": "python",
   "name": "python3"
  },
  "language_info": {
   "codemirror_mode": {
    "name": "ipython",
    "version": 3
   },
   "file_extension": ".py",
   "mimetype": "text/x-python",
   "name": "python",
   "nbconvert_exporter": "python",
   "pygments_lexer": "ipython3",
   "version": "3.10.0"
  }
 },
 "nbformat": 4,
 "nbformat_minor": 5
}
