{
 "cells": [
  {
   "cell_type": "code",
   "execution_count": 1,
   "id": "b8eb1701-8e9c-4b83-bbd2-74066ee0c5c9",
   "metadata": {},
   "outputs": [],
   "source": [
    "import pandas as pd\n",
    "import json\n",
    "from platform import python_version"
   ]
  },
  {
   "cell_type": "code",
   "execution_count": 2,
   "id": "449ac747-7471-41c5-b80c-80bd7b3ef4fe",
   "metadata": {},
   "outputs": [
    {
     "name": "stdout",
     "output_type": "stream",
     "text": [
      "3.10.10\n",
      "2.1.1\n"
     ]
    }
   ],
   "source": [
    "print(python_version())\n",
    "print(pd.__version__)\n"
   ]
  },
  {
   "cell_type": "code",
   "execution_count": 3,
   "id": "80be7c8e-3924-4598-83b3-f22033499df8",
   "metadata": {},
   "outputs": [],
   "source": [
    "import os"
   ]
  },
  {
   "cell_type": "code",
   "execution_count": 4,
   "id": "550d3c5f-6440-4441-845e-c873374889df",
   "metadata": {},
   "outputs": [],
   "source": [
    "current_directory = os.getcwd()"
   ]
  },
  {
   "cell_type": "code",
   "execution_count": 5,
   "id": "f9f6e4f5-4cd6-4751-9898-579662e9e0e1",
   "metadata": {},
   "outputs": [],
   "source": [
    "files_and_directories = os.listdir('/home/rodrigo/repos/DATAVIZ_project/')"
   ]
  },
  {
   "cell_type": "code",
   "execution_count": 6,
   "id": "5684f527-2ae4-4d05-9e2b-c136b26552b4",
   "metadata": {},
   "outputs": [
    {
     "name": "stdout",
     "output_type": "stream",
     "text": [
      "Current Directory: /home/rodrigo/repos/DATAVIZ_project/dataviz_venv/jupyter_notebooks\n",
      "files and directories: ['README.md', '.git', 'BIOPRO_G.csv', 'dataviz_venv']\n"
     ]
    }
   ],
   "source": [
    "print(\"Current Directory:\", current_directory)\n",
    "print(\"files and directories:\", files_and_directories)"
   ]
  },
  {
   "cell_type": "code",
   "execution_count": 9,
   "id": "3ccd8587-eb20-49c5-8f15-dec40dd0aabb",
   "metadata": {},
   "outputs": [
    {
     "name": "stdout",
     "output_type": "stream",
     "text": [
      "files and directories: ['data', 'include', 'etc', 'python_scripts', 'db', 'lib', 'healthy_levels.py', 'jupyter_notebooks', '.ipynb_checkpoints', 'pyvenv.cfg', 'share', 'lib64', 'bin']\n"
     ]
    }
   ],
   "source": [
    "files_and_directories = os.listdir('/home/rodrigo/repos/DATAVIZ_project/dataviz_venv')\n",
    "print(\"files and directories:\", files_and_directories)"
   ]
  },
  {
   "cell_type": "code",
   "execution_count": 10,
   "id": "0286e7a3-8ee6-4e6b-83c9-8433faa7f348",
   "metadata": {},
   "outputs": [
    {
     "name": "stdout",
     "output_type": "stream",
     "text": [
      "files and directories: ['blood_indicators.csv', 'patients.csv']\n"
     ]
    }
   ],
   "source": [
    "files_and_directories = os.listdir('/home/rodrigo/repos/DATAVIZ_project/dataviz_venv/data')\n",
    "print(\"files and directories:\", files_and_directories)"
   ]
  },
  {
   "cell_type": "code",
   "execution_count": null,
   "id": "7803f880-4e6a-4dc4-90bc-4ea6374b070f",
   "metadata": {},
   "outputs": [],
   "source": []
  }
 ],
 "metadata": {
  "kernelspec": {
   "display_name": "Python 3 (ipykernel)",
   "language": "python",
   "name": "python3"
  },
  "language_info": {
   "codemirror_mode": {
    "name": "ipython",
    "version": 3
   },
   "file_extension": ".py",
   "mimetype": "text/x-python",
   "name": "python",
   "nbconvert_exporter": "python",
   "pygments_lexer": "ipython3",
   "version": "3.10.10"
  }
 },
 "nbformat": 4,
 "nbformat_minor": 5
}
